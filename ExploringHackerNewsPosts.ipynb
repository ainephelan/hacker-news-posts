{
 "cells": [
  {
   "cell_type": "markdown",
   "metadata": {
    "collapsed": true
   },
   "source": [
    "# Exploring Hacker News Posts\n",
    "\n",
    "### Context \n",
    "\n",
    "[Hacker News](https://news.ycombinator.com/) is a site started by the startup incubator Y Combinator, where user-submitted stories (known as 'posts') are voted and commented upon. Hacker News is extremely popular in technology and startup circles, and posts that make it to the top of Hacker News' listings can get hundreds of thousands of visitors as a result.\n",
    "\n",
    "In this project, we'll work with a [dataset](https://www.kaggle.com/hacker-news/hacker-news-posts) of submissions to Hacker News (HN).\n",
    "\n",
    "| Syntax | Description | \n",
    "| --- | --- |\n",
    "| `id` | The unique identifier from Hacker News for the post |\n",
    "| `title` | The title of the post |\n",
    "| `url` | The URL that the posts links to, if it the post has a URL |\n",
    "| `num_points` | The number of points the post acquired, calculated as the total number of upvotes minus the total number of downvotes |\n",
    "| `num_comments` | The number of comments that were made on the post |\n",
    "| `author` | The username of the person who submitted the post |\n",
    "| `created_at` | The date and time at which the post was submitted |\n",
    "  \n",
    "  \n",
    "  \n",
    "\n",
    "We're specifically interested in posts whose titles begin with either `Ask HN` or `Show HN`. \n",
    "\n",
    "- Users submit `Ask HN` posts to ask the Hacker News community a specific question.\n",
    "   - `Ask HN: How to improve my personal website?`\n",
    "   - `Ask HN: Am I the only one outraged by Twitter shutting down share counts?`\n",
    "   \n",
    "   \n",
    "- Likewise, users submit `Show HN` posts to show the Hacker News community a project, product, or just generally something interesting.\n",
    "   - `Show HN: Wio Link  ESP8266 Based Web of Things Hardware Development Platform`\n",
    "   - `Show HN: Something pointless I made`\n",
    "\n",
    "\n",
    "### Aim \n",
    "\n",
    "The aim of this project is to compare these two types of posts (`Ask HN` and `Show HN`) to determine the following:\n",
    "\n",
    "1. Do `Ask HN` or `Show HN` receive more comments on average?\n",
    "2. Do posts created at a certain time receive more comments on average?\n",
    "\n",
    "\n",
    "### Skills / Libraries / Tools\n",
    "\n",
    "We continue to use the standard Python Library only to do our practical data analysis, touching upon:\n",
    "- Working with strings\n",
    "- Dates and times\n",
    "- Jupyter Notebook\n"
   ]
  },
  {
   "cell_type": "markdown",
   "metadata": {},
   "source": [
    "### Read in our Data and Remove Headers from a List of Lists\n",
    "\n",
    "We start by opening `hacker_news.csv` and converting it to a list of lists.\n",
    "\n",
    "We remove the header row and store it separately.\n",
    "\n",
    "We now have our header `header` and our data set `hn`."
   ]
  },
  {
   "cell_type": "code",
   "execution_count": 1,
   "metadata": {},
   "outputs": [
    {
     "name": "stdout",
     "output_type": "stream",
     "text": [
      "['id', 'title', 'url', 'num_points', 'num_comments', 'author', 'created_at']\n",
      "\n",
      "\n",
      "['12224879', 'Interactive Dynamic Video', 'http://www.interactivedynamicvideo.com/', '386', '52', 'ne0phyte', '8/4/2016 11:52']\n",
      "\n",
      "\n",
      "['10975351', 'How to Use Open Source and Shut the Fuck Up at the Same Time', 'http://hueniverse.com/2016/01/26/how-to-use-open-source-and-shut-the-fuck-up-at-the-same-time/', '39', '10', 'josep2', '1/26/2016 19:30']\n",
      "\n",
      "\n",
      "['11964716', \"Florida DJs May Face Felony for April Fools' Water Joke\", 'http://www.thewire.com/entertainment/2013/04/florida-djs-april-fools-water-joke/63798/', '2', '1', 'vezycash', '6/23/2016 22:20']\n",
      "\n",
      "\n",
      "['11919867', 'Technology ventures: From Idea to Enterprise', 'https://www.amazon.com/Technology-Ventures-Enterprise-Thomas-Byers/dp/0073523429', '3', '1', 'hswarna', '6/17/2016 0:01']\n",
      "\n",
      "\n",
      "['id', 'title', 'url', 'num_points', 'num_comments', 'author', 'created_at']\n"
     ]
    },
    {
     "data": {
      "text/plain": [
       "[['12224879',\n",
       "  'Interactive Dynamic Video',\n",
       "  'http://www.interactivedynamicvideo.com/',\n",
       "  '386',\n",
       "  '52',\n",
       "  'ne0phyte',\n",
       "  '8/4/2016 11:52'],\n",
       " ['10975351',\n",
       "  'How to Use Open Source and Shut the Fuck Up at the Same Time',\n",
       "  'http://hueniverse.com/2016/01/26/how-to-use-open-source-and-shut-the-fuck-up-at-the-same-time/',\n",
       "  '39',\n",
       "  '10',\n",
       "  'josep2',\n",
       "  '1/26/2016 19:30'],\n",
       " ['11964716',\n",
       "  \"Florida DJs May Face Felony for April Fools' Water Joke\",\n",
       "  'http://www.thewire.com/entertainment/2013/04/florida-djs-april-fools-water-joke/63798/',\n",
       "  '2',\n",
       "  '1',\n",
       "  'vezycash',\n",
       "  '6/23/2016 22:20'],\n",
       " ['11919867',\n",
       "  'Technology ventures: From Idea to Enterprise',\n",
       "  'https://www.amazon.com/Technology-Ventures-Enterprise-Thomas-Byers/dp/0073523429',\n",
       "  '3',\n",
       "  '1',\n",
       "  'hswarna',\n",
       "  '6/17/2016 0:01'],\n",
       " ['10301696',\n",
       "  'Note by Note: The Making of Steinway L1037 (2007)',\n",
       "  'http://www.nytimes.com/2007/11/07/movies/07stein.html?_r=0',\n",
       "  '8',\n",
       "  '2',\n",
       "  'walterbell',\n",
       "  '9/30/2015 4:12']]"
      ]
     },
     "execution_count": 1,
     "metadata": {},
     "output_type": "execute_result"
    }
   ],
   "source": [
    "from csv import reader\n",
    "\n",
    "hn = list(reader(open('hacker_news.csv')))\n",
    "\n",
    "# Examine the first 5 rows\n",
    "for row in hn[:5]:\n",
    "    print(row)\n",
    "    print('\\n')\n",
    "\n",
    "# Split into header and data set\n",
    "headers = hn[0]\n",
    "hn = hn[1:]\n",
    "print(headers)\n",
    "hn[:5]"
   ]
  },
  {
   "cell_type": "markdown",
   "metadata": {},
   "source": [
    "## Extracting Aks HN and Show HN Posts\n",
    "\n",
    "As we are only interested in posts whose titles begin with `Ask HN` or `Show HN`, we will work on extracting these posts from the data set.\n",
    "\n",
    "We will create 2 new lists of lists, containing data just for posts with those titles."
   ]
  },
  {
   "cell_type": "code",
   "execution_count": 2,
   "metadata": {},
   "outputs": [
    {
     "name": "stdout",
     "output_type": "stream",
     "text": [
      "1744\n",
      "1162\n",
      "17194\n",
      "True\n"
     ]
    }
   ],
   "source": [
    "# Instaniate lists that will be used to store our data\n",
    "ask_posts = []\n",
    "show_posts = []\n",
    "other_posts = []\n",
    "\n",
    "# Iterate over data set and append rows to lists as appropriate\n",
    "for row in hn:\n",
    "    title = row[1].lower()\n",
    "    if title.startswith('ask hn') == True:\n",
    "        ask_posts.append(row)\n",
    "    elif title.startswith('show hn') == True:\n",
    "        show_posts.append(row)\n",
    "    else:\n",
    "        other_posts.append(row)\n",
    "\n",
    "# Check\n",
    "print(len(ask_posts))\n",
    "print(len(show_posts))\n",
    "print(len(other_posts))\n",
    "print(len(hn) == len(ask_posts) + len(show_posts) + len(other_posts))\n"
   ]
  },
  {
   "cell_type": "markdown",
   "metadata": {},
   "source": [
    "We now have our two lists of lists, `ask_posts` and `show_posts`.\n",
    "\n",
    "\n",
    "## Calculate the average number of comments for `Ask HN` and `Show HN` posts\n",
    "\n",
    "Let's see which categoy receives more comments on average, `Ask HN` or `Show HN` posts."
   ]
  },
  {
   "cell_type": "code",
   "execution_count": 3,
   "metadata": {},
   "outputs": [
    {
     "name": "stdout",
     "output_type": "stream",
     "text": [
      "Average number of comments per Ask post:  14.04\n",
      "Average number of comments per Show post:  10.32\n",
      "Ask posts receive 3.72 more comments on average than Show posts.\n"
     ]
    }
   ],
   "source": [
    "# Get avg number of comments for `Ask HN` posts\n",
    "total_ask_comments = 0\n",
    "\n",
    "for row in ask_posts:\n",
    "    num_comments = int(row[4])\n",
    "    total_ask_comments += num_comments\n",
    "\n",
    "avg_ask_comments = total_ask_comments / len(ask_posts)\n",
    "print('Average number of comments per Ask post: ', round(avg_ask_comments, 2))\n",
    "\n",
    "\n",
    "# Get avg number of comments for `Show HN` posts\n",
    "total_show_comments = 0\n",
    "\n",
    "for row in show_posts:\n",
    "    num_comments = int(row[4])\n",
    "    total_show_comments += num_comments\n",
    "    \n",
    "avg_show_comments = total_show_comments / len(show_posts)\n",
    "print('Average number of comments per Show post: ', round(avg_show_comments, 2))\n",
    "\n",
    "\n",
    "# Print results\n",
    "if avg_ask_comments > avg_show_comments:\n",
    "    print('Ask posts receive {} more comments on average than Show posts.'.format(round(avg_ask_comments - avg_show_comments, 2)))\n",
    "else:\n",
    "    print('Show posts receive {} more comments on average than Ask posts.'.format(round(avg_show_comments - avg_ask_comments, 2)))\n"
   ]
  },
  {
   "cell_type": "markdown",
   "metadata": {},
   "source": [
    "As we can see above, `Ask HN` posts receive more posts on average than `Show HN` posts.\n",
    "\n",
    "> Average number of comments per Ask post:  14.04\n",
    "\n",
    "> Average number of comments per Show post:  10.32\n",
    "\n",
    "> Ask posts receive 3.72 more comments on average than Show posts.\n",
    "\n",
    "Given this, we will focus our remaining analysis on **`Ask HN` posts only**.\n",
    "\n",
    "\n",
    "\n",
    "## Find the Amount of `Ask HN` Post and Comments by Hour Created\n",
    "\n",
    "We want to find out if the *time of day* at which a post is created impacts the number of comments it receives.\n",
    "\n",
    "Considering the ask posts only, we will calculate: \n",
    "1. The number of ask posts created in each hour of the day along with the number of comments received\n",
    "2. The average number of comments ask posts receive by hour created\n",
    "\n",
    "Let's look at the first step - calculating the amount of ask posts and their comments by hour created."
   ]
  },
  {
   "cell_type": "code",
   "execution_count": 4,
   "metadata": {},
   "outputs": [
    {
     "name": "stdout",
     "output_type": "stream",
     "text": [
      "Counts by hour: {'09': 45, '13': 85, '10': 59, '14': 107, '16': 108, '23': 68, '12': 73, '17': 100, '15': 116, '21': 109, '20': 80, '02': 58, '18': 109, '03': 54, '05': 46, '19': 110, '01': 60, '22': 71, '08': 48, '04': 47, '00': 55, '06': 44, '07': 34, '11': 58}\n",
      "\n",
      "\n",
      "Comments by hour: {'09': 251, '13': 1253, '10': 793, '14': 1416, '16': 1814, '23': 543, '12': 687, '17': 1146, '15': 4477, '21': 1745, '20': 1722, '02': 1381, '18': 1439, '03': 421, '05': 464, '19': 1188, '01': 683, '22': 479, '08': 492, '04': 337, '00': 447, '06': 397, '07': 267, '11': 641}\n"
     ]
    }
   ],
   "source": [
    "# Import the datetime module\n",
    "import datetime as dt\n",
    "\n",
    "\n",
    "# Create a list of lists, containing the created time and number of comments for each ask post\n",
    "result_list = []\n",
    "\n",
    "for row in ask_posts:\n",
    "    created_at = row[-1]\n",
    "    num_comments = int(row[4])\n",
    "    result_list.append([created_at, num_comments])\n",
    "\n",
    "    \n",
    "# extract the number of posts and comments in an hour\n",
    "counts_by_hour = {}\n",
    "comments_by_hour = {}\n",
    "\n",
    "\n",
    "# Turn the created time string into a usable format\n",
    "# First turn it into a datetime object, then a string with just the hour info\n",
    "for row in result_list:\n",
    "    \n",
    "    # Parse the string, resolving its components and assigning their syntactic role to create the datetime object\n",
    "    dt_obj = dt.datetime.strptime(row[0], '%m/%d/%Y %H:%M') \n",
    "    \n",
    "    # Convert the dt object to a string displaying just the hour\n",
    "    hour_str = dt_obj.strftime('%H')\n",
    "    \n",
    "    num_comments = row[1]\n",
    "    \n",
    "    if hour_str not in counts_by_hour:\n",
    "        counts_by_hour[hour_str] = 1\n",
    "        comments_by_hour[hour_str] = num_comments\n",
    "    \n",
    "    elif hour_str in counts_by_hour:\n",
    "        counts_by_hour[hour_str] += 1\n",
    "        comments_by_hour[hour_str] += num_comments\n",
    "\n",
    "# Output\n",
    "print('Counts by hour:', counts_by_hour)\n",
    "print('\\n')\n",
    "print('Comments by hour:', comments_by_hour)\n"
   ]
  },
  {
   "cell_type": "markdown",
   "metadata": {},
   "source": [
    "We now know: \n",
    "- How many posts were created in each hour\n",
    "- How many comments we created in each hour\n",
    "\n",
    "\n",
    "## Calculate the Average Number of Comments for `Ask HN` Posts by Hour\n",
    "\n",
    "Next we tackle step 2 - calculating the average number of comments per post created during each hour of the day.\n",
    "\n",
    "Let's create a list of lists containing: \n",
    "- The hours that posts were created\n",
    "- The average number of comments those posts received."
   ]
  },
  {
   "cell_type": "code",
   "execution_count": 5,
   "metadata": {},
   "outputs": [
    {
     "data": {
      "text/plain": [
       "[['09', 5.578],\n",
       " ['13', 14.741],\n",
       " ['10', 13.441],\n",
       " ['14', 13.234],\n",
       " ['16', 16.796],\n",
       " ['23', 7.985],\n",
       " ['12', 9.411],\n",
       " ['17', 11.46],\n",
       " ['15', 38.595],\n",
       " ['21', 16.009],\n",
       " ['20', 21.525],\n",
       " ['02', 23.81],\n",
       " ['18', 13.202],\n",
       " ['03', 7.796],\n",
       " ['05', 10.087],\n",
       " ['19', 10.8],\n",
       " ['01', 11.383],\n",
       " ['22', 6.746],\n",
       " ['08', 10.25],\n",
       " ['04', 7.17],\n",
       " ['00', 8.127],\n",
       " ['06', 9.023],\n",
       " ['07', 7.853],\n",
       " ['11', 11.052]]"
      ]
     },
     "execution_count": 5,
     "metadata": {},
     "output_type": "execute_result"
    }
   ],
   "source": [
    "avg_by_hour = []\n",
    "\n",
    "for key in comments_by_hour:\n",
    "    num_comments = comments_by_hour[key]\n",
    "    for index in counts_by_hour:\n",
    "        post_count = counts_by_hour[index]\n",
    "        if key == index:\n",
    "            average = round(num_comments / post_count, 3)\n",
    "            avg_by_hour.append([key, average])\n",
    "\n",
    "avg_by_hour"
   ]
  },
  {
   "cell_type": "markdown",
   "metadata": {},
   "source": [
    "We now know the average number of comments per post for each hour of the day. Our info isn't very easy to read in the above format however.\n",
    "\n",
    "\n",
    "## Sorting and Printing Values from a List of Lists\n",
    "\n",
    "Let's finish by sorting the list of lists and printing the five highest values in a format that is easier to read."
   ]
  },
  {
   "cell_type": "code",
   "execution_count": 6,
   "metadata": {},
   "outputs": [
    {
     "name": "stdout",
     "output_type": "stream",
     "text": [
      "swap_avg_by_hour: [[5.578, '09'], [14.741, '13'], [13.441, '10'], [13.234, '14'], [16.796, '16'], [7.985, '23'], [9.411, '12'], [11.46, '17'], [38.595, '15'], [16.009, '21'], [21.525, '20'], [23.81, '02'], [13.202, '18'], [7.796, '03'], [10.087, '05'], [10.8, '19'], [11.383, '01'], [6.746, '22'], [10.25, '08'], [7.17, '04'], [8.127, '00'], [9.023, '06'], [7.853, '07'], [11.052, '11']] \n",
      "\n",
      "sorted_swap: [[38.595, '15'], [23.81, '02'], [21.525, '20'], [16.796, '16'], [16.009, '21']] \n",
      "\n",
      "Top 5 Hours for Ask Posts Comments\n",
      "15:00: 38.59 average comments per post\n",
      "02:00: 23.81 average comments per post\n",
      "20:00: 21.52 average comments per post\n",
      "16:00: 16.80 average comments per post\n",
      "21:00: 16.01 average comments per post\n"
     ]
    }
   ],
   "source": [
    "# Create a list that is the same as the above but with swapped columns\n",
    "swap_avg_by_hour = []\n",
    "\n",
    "for row in avg_by_hour:\n",
    "    swap_avg_by_hour.append([row[1], row[0]])\n",
    "    \n",
    "print('swap_avg_by_hour:', swap_avg_by_hour, '\\n')\n",
    "\n",
    "\n",
    "# Sort swap_avg_by_hour in descending order\n",
    "sorted_swap = sorted(swap_avg_by_hour, reverse = True)\n",
    "\n",
    "print('sorted_swap:', sorted_swap[:5], '\\n')\n",
    "print('Top 5 Hours for Ask Posts Comments')\n",
    "\n",
    "\n",
    "# Make our results more readable\n",
    "for average, hour in sorted_swap[:5]:\n",
    "    \n",
    "    # Parse hour string to create datetime object\n",
    "    hour_dt_obj = dt.datetime.strptime(hour, '%H')\n",
    "    \n",
    "    # Convert datetime object to string in format HH:MM, round average to precision 2 and format\n",
    "    print('{:%H:%M}: {:.2f} average comments per post'.format(hour_dt_obj, average))\n",
    "    "
   ]
  },
  {
   "cell_type": "markdown",
   "metadata": {},
   "source": [
    "We have found the top 5 hours in which to create an `Ask HN` post, in order to receive the most comments.\n",
    "\n",
    "Note however that the [timezone](https://www.kaggle.com/hacker-news/hacker-news-posts/home) is **US Eastern Time**.\n",
    "\n",
    "To make this locally applicable, we will have to convert the times to the local timezone, which is AEDT. \n",
    "\n",
    "At present time (August), AEDT is 14 hours ahead of US Eastern time.\n",
    "\n",
    "To do this we create a timedelta of 14 hours and add it to the above times."
   ]
  },
  {
   "cell_type": "code",
   "execution_count": 8,
   "metadata": {},
   "outputs": [
    {
     "name": "stdout",
     "output_type": "stream",
     "text": [
      "Current time difference between US Eastern and AEDT: 14:00:00 \n",
      "\n",
      "Top 5 Hours for Ask Posts Comments - AEDT:\n",
      "05:00 - 38.59 average comments per post\n",
      "16:00 - 23.81 average comments per post\n",
      "10:00 - 21.52 average comments per post\n",
      "06:00 - 16.80 average comments per post\n",
      "11:00 - 16.01 average comments per post\n"
     ]
    }
   ],
   "source": [
    "# Create time delta\n",
    "time_diff_td = dt.timedelta(hours=14)\n",
    "\n",
    "print('Current time difference between US Eastern and AEDT:', time_diff_td, '\\n')\n",
    "\n",
    "# List times in AEDT\n",
    "aedt_list = []\n",
    "\n",
    "for row in sorted_swap:\n",
    "    dt_obj = dt.datetime.strptime(row[1], '%H')\n",
    "    aedt_time_obj = dt_obj + time_diff_td   #AEDT is 14 hours ahead\n",
    "    aedt_time_str = aedt_time_obj.strftime('%H')\n",
    "    aedt_list.append([row[0], aedt_time_str])\n",
    "\n",
    "# Output top 5    \n",
    "print('Top 5 Hours for Ask Posts Comments - AEDT:')\n",
    "\n",
    "# change the format of the hour, round the average to precision 2, print in a more readable format.\n",
    "for average, hour in aedt_list[:5]:\n",
    "    \n",
    "    # parse hour string to create datetime object\n",
    "    hour_dt_obj = dt.datetime.strptime(hour, '%H')\n",
    "    \n",
    "    # convert datetime object to string in format HH:MM, round average to precision 2 and print in a nice format\n",
    "    print('{:%H:%M} - {:.2f} average comments per post'.format(hour_dt_obj, average))\n",
    "    "
   ]
  },
  {
   "cell_type": "markdown",
   "metadata": {},
   "source": [
    "# Conclusion\n",
    "\n",
    "We have been able to answer the questions posed at the beginning of this analysis:\n",
    "\n",
    "#### 1. Do `Ask HN` or `Show HN` receive more comments on average?\n",
    "\n",
    "`Ask HN` posts receive more comments on average.\n",
    "   \n",
    "\n",
    "#### 2. Do posts created at a certain time receive more comments on average?\n",
    "\n",
    "Yes, the time of post creation does impact the number of comments received.\n",
    "\n",
    "We have found the top 5 hours of the day (US Eastern Standard Time) in which to create an `Ask HN` post in order to receive the most comments.\n",
    "\n",
    "`Top 5 Hours for Ask Posts Comments - EST\n",
    "15:00: 38.59 average comments per post\n",
    "02:00: 23.81 average comments per post\n",
    "20:00: 21.52 average comments per post\n",
    "16:00: 16.80 average comments per post\n",
    "21:00: 16.01 average comments per post`\n",
    "\n",
    "\n",
    "\n",
    "\n",
    "**Note: to make this information locally applicable, we have converted the times from US Eastern to AEDT**\n",
    "\n",
    "`Top 5 Hours for Ask Posts Comments - AEDT\n",
    "07:00: 38.59 average comments per post\n",
    "18:00: 23.81 average comments per post\n",
    "12:00: 21.52 average comments per post\n",
    "08:00: 16.80 average comments per post\n",
    "13:00: 16.01 average comments per post`\n"
   ]
  }
 ],
 "metadata": {
  "kernelspec": {
   "display_name": "Python 3",
   "language": "python",
   "name": "python3"
  },
  "language_info": {
   "codemirror_mode": {
    "name": "ipython",
    "version": 3
   },
   "file_extension": ".py",
   "mimetype": "text/x-python",
   "name": "python",
   "nbconvert_exporter": "python",
   "pygments_lexer": "ipython3",
   "version": "3.7.1"
  }
 },
 "nbformat": 4,
 "nbformat_minor": 2
}
